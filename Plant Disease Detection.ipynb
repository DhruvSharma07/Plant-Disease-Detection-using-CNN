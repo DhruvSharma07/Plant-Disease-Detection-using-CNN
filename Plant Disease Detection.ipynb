{
 "cells": [
  {
   "cell_type": "code",
   "execution_count": 1,
   "id": "981a6cc6",
   "metadata": {},
   "outputs": [],
   "source": [
    "# Importing all the libraries which are required\n",
    "import numpy as np\n",
    "import pickle\n",
    "import cv2\n",
    "from os import listdir\n",
    "from sklearn.preprocessing import LabelBinarizer\n",
    "from keras.models import Sequential\n",
    "from keras.layers import BatchNormalization\n",
    "from keras.layers.convolutional import Conv2D\n",
    "from keras.layers.convolutional import MaxPooling2D\n",
    "from keras.layers.core import Activation, Flatten, Dropout, Dense\n",
    "from keras import backend as K\n",
    "from keras.preprocessing.image import ImageDataGenerator\n",
    "from keras.optimizers import Adam\n",
    "from keras.preprocessing import image\n",
    "from tensorflow.keras.utils import img_to_array\n",
    "from sklearn.preprocessing import MultiLabelBinarizer\n",
    "from sklearn.model_selection import train_test_split\n",
    "import matplotlib.pyplot as plt"
   ]
  },
  {
   "cell_type": "code",
   "execution_count": 2,
   "id": "02de481f",
   "metadata": {},
   "outputs": [],
   "source": [
    "# Initializing all the variables and default values for the program\n",
    "EPOCHS = 25\n",
    "INIT_LR = 1e-3\n",
    "BS = 32\n",
    "default_image_size = tuple((256, 256))\n",
    "image_size = 0\n",
    "directory_root = 'input/'\n",
    "width=256\n",
    "height=256\n",
    "depth=3"
   ]
  },
  {
   "cell_type": "code",
   "execution_count": 3,
   "id": "4453ab70",
   "metadata": {},
   "outputs": [],
   "source": [
    "# Function to create image into array\n",
    "def convert_image_to_array(image_dir):\n",
    "    try:\n",
    "        image = cv2.imread(image_dir)\n",
    "        if image is not None :\n",
    "            image = cv2.resize(image, default_image_size)   \n",
    "            return img_to_array(image)\n",
    "        else :\n",
    "            return np.array([])\n",
    "    except Exception as e:\n",
    "        print(f\"Error : {e}\")\n",
    "        return None\n"
   ]
  },
  {
   "cell_type": "code",
   "execution_count": 4,
   "id": "cbf33186",
   "metadata": {},
   "outputs": [
    {
     "name": "stdout",
     "output_type": "stream",
     "text": [
      "-> Processing Pepper__bell___Bacterial_spot ...\n",
      "-> Processing Pepper__bell___healthy ...\n",
      "-> Processing PlantVillage ...\n",
      "-> Processing Potato___Early_blight ...\n",
      "-> Processing Potato___healthy ...\n",
      "-> Processing Potato___Late_blight ...\n",
      "-> Processing Tomato_Bacterial_spot ...\n",
      "-> Processing Tomato_Early_blight ...\n",
      "-> Processing Tomato_healthy ...\n",
      "-> Processing Tomato_Late_blight ...\n",
      "-> Processing Tomato_Leaf_Mold ...\n",
      "-> Processing Tomato_Septoria_leaf_spot ...\n",
      "-> Processing Tomato_Spider_mites_Two_spotted_spider_mite ...\n",
      "-> Processing Tomato__Target_Spot ...\n",
      "-> Processing Tomato__Tomato_mosaic_virus ...\n",
      "-> Processing Tomato__Tomato_YellowLeaf__Curl_Virus ...\n",
      "-> Image loading completed\n"
     ]
    }
   ],
   "source": [
    "image_list, label_list = [], []\n",
    "try:\n",
    "    # Loading the images in the model\n",
    "    root_dir = listdir(directory_root)\n",
    "\n",
    "    for plant_folder in root_dir :\n",
    "        plant_disease_folder_list = listdir(f\"{directory_root}/{plant_folder}\")\n",
    "        # Processing images of each folder \n",
    "        \n",
    "        for plant_disease_folder in plant_disease_folder_list:\n",
    "            print(f\"-> Processing {plant_disease_folder} ...\")\n",
    "            plant_disease_image_list = listdir(f\"{directory_root}/{plant_folder}/{plant_disease_folder}/\")\n",
    "\n",
    "            for image in plant_disease_image_list[:200]:\n",
    "                image_directory = f\"{directory_root}/{plant_folder}/{plant_disease_folder}/{image}\"\n",
    "                if image_directory.endswith(\".jpg\") == True or image_directory.endswith(\".JPG\") == True:\n",
    "                    image_list.append(convert_image_to_array(image_directory))\n",
    "                    label_list.append(plant_disease_folder)\n",
    "    print(\"-> Image loading completed\")  \n",
    "except Exception as e:\n",
    "    print(f\"Error : {e}\")"
   ]
  },
  {
   "cell_type": "code",
   "execution_count": 5,
   "id": "01fef7e8",
   "metadata": {},
   "outputs": [],
   "source": [
    "image_size = len(image_list)"
   ]
  },
  {
   "cell_type": "code",
   "execution_count": 6,
   "id": "68cb7b6d",
   "metadata": {},
   "outputs": [],
   "source": [
    "label_binarizer = LabelBinarizer()\n",
    "image_labels = label_binarizer.fit_transform(label_list)\n",
    "pickle.dump(label_binarizer,open('label_transform.pkl', 'wb'))\n",
    "n_classes = len(label_binarizer.classes_)"
   ]
  },
  {
   "cell_type": "code",
   "execution_count": 7,
   "id": "4c9fb906",
   "metadata": {},
   "outputs": [
    {
     "name": "stdout",
     "output_type": "stream",
     "text": [
      "['Pepper__bell___Bacterial_spot' 'Pepper__bell___healthy'\n",
      " 'Potato___Early_blight' 'Potato___Late_blight' 'Potato___healthy'\n",
      " 'Tomato_Bacterial_spot' 'Tomato_Early_blight' 'Tomato_Late_blight'\n",
      " 'Tomato_Leaf_Mold' 'Tomato_Septoria_leaf_spot'\n",
      " 'Tomato_Spider_mites_Two_spotted_spider_mite' 'Tomato__Target_Spot'\n",
      " 'Tomato__Tomato_YellowLeaf__Curl_Virus' 'Tomato__Tomato_mosaic_virus'\n",
      " 'Tomato_healthy']\n"
     ]
    }
   ],
   "source": [
    "print(label_binarizer.classes_)"
   ]
  },
  {
   "cell_type": "code",
   "execution_count": 8,
   "id": "448d8a98",
   "metadata": {},
   "outputs": [],
   "source": [
    "np_image_list = np.array(image_list, dtype=np.float16) / 225.0"
   ]
  },
  {
   "cell_type": "code",
   "execution_count": 9,
   "id": "a707e8ff",
   "metadata": {},
   "outputs": [],
   "source": [
    "# Splitting data into train and test data\n",
    "x_train, x_test, y_train, y_test = train_test_split(np_image_list, image_labels, test_size=0.2, random_state = 42) "
   ]
  },
  {
   "cell_type": "code",
   "execution_count": 10,
   "id": "de3781db",
   "metadata": {},
   "outputs": [],
   "source": [
    "aug = ImageDataGenerator(\n",
    "    rotation_range=25, width_shift_range=0.1,\n",
    "    height_shift_range=0.1, shear_range=0.2, \n",
    "    zoom_range=0.2,horizontal_flip=True, \n",
    "    fill_mode=\"nearest\")"
   ]
  },
  {
   "cell_type": "code",
   "execution_count": 11,
   "id": "4cd31774",
   "metadata": {},
   "outputs": [],
   "source": [
    "# Adding the parameters in the CNN model\n",
    "\n",
    "model = Sequential()\n",
    "inputShape = (height, width, depth)\n",
    "chanDim = -1\n",
    "if K.image_data_format() == \"channels_first\":\n",
    "    inputShape = (depth, height, width)\n",
    "    chanDim = 1\n",
    "model.add(Conv2D(32, (3, 3), padding=\"same\",input_shape=inputShape))\n",
    "model.add(Activation(\"relu\"))\n",
    "model.add(BatchNormalization(axis=chanDim))\n",
    "model.add(MaxPooling2D(pool_size=(3, 3)))\n",
    "model.add(Dropout(0.25))\n",
    "model.add(Conv2D(64, (3, 3), padding=\"same\"))\n",
    "model.add(Activation(\"relu\"))\n",
    "model.add(BatchNormalization(axis=chanDim))\n",
    "model.add(Conv2D(64, (3, 3), padding=\"same\"))\n",
    "model.add(Activation(\"relu\"))\n",
    "model.add(BatchNormalization(axis=chanDim))\n",
    "model.add(MaxPooling2D(pool_size=(2, 2)))\n",
    "model.add(Dropout(0.25))\n",
    "model.add(Conv2D(128, (3, 3), padding=\"same\"))\n",
    "model.add(Activation(\"relu\"))\n",
    "model.add(BatchNormalization(axis=chanDim))\n",
    "model.add(Conv2D(128, (3, 3), padding=\"same\"))\n",
    "model.add(Activation(\"relu\"))\n",
    "model.add(BatchNormalization(axis=chanDim))\n",
    "model.add(MaxPooling2D(pool_size=(2, 2)))\n",
    "model.add(Dropout(0.25))\n",
    "model.add(Flatten())\n",
    "model.add(Dense(1024))\n",
    "model.add(Activation(\"relu\"))\n",
    "model.add(BatchNormalization())\n",
    "model.add(Dropout(0.5))\n",
    "model.add(Dense(n_classes))\n",
    "model.add(Activation(\"softmax\"))"
   ]
  },
  {
   "cell_type": "code",
   "execution_count": null,
   "id": "4d2e43d6",
   "metadata": {},
   "outputs": [],
   "source": []
  },
  {
   "cell_type": "code",
   "execution_count": 12,
   "id": "44bede7d",
   "metadata": {},
   "outputs": [],
   "source": [
    "opt = Adam(learning_rate=INIT_LR, decay=INIT_LR / EPOCHS)\n",
    "# distribution\n",
    "model.compile(loss=\"binary_crossentropy\", optimizer=opt,metrics=[\"accuracy\"])"
   ]
  },
  {
   "cell_type": "code",
   "execution_count": 18,
   "id": "1011f28c",
   "metadata": {
    "scrolled": true
   },
   "outputs": [
    {
     "name": "stdout",
     "output_type": "stream",
     "text": [
      "Epoch 1/25\n",
      "73/73 [==============================] - 199s 3s/step - loss: 0.0553 - accuracy: 0.8828 - val_loss: 0.1525 - val_accuracy: 0.6497\n",
      "Epoch 2/25\n",
      "73/73 [==============================] - 204s 3s/step - loss: 0.0462 - accuracy: 0.9047 - val_loss: 0.2041 - val_accuracy: 0.5533\n",
      "Epoch 3/25\n",
      "73/73 [==============================] - 202s 3s/step - loss: 0.0444 - accuracy: 0.9038 - val_loss: 0.5584 - val_accuracy: 0.3587\n",
      "Epoch 4/25\n",
      "73/73 [==============================] - 203s 3s/step - loss: 0.0433 - accuracy: 0.9120 - val_loss: 0.2519 - val_accuracy: 0.6227\n",
      "Epoch 5/25\n",
      "73/73 [==============================] - 203s 3s/step - loss: 0.0596 - accuracy: 0.8712 - val_loss: 0.1379 - val_accuracy: 0.7343\n",
      "Epoch 6/25\n",
      "73/73 [==============================] - 203s 3s/step - loss: 0.0472 - accuracy: 0.8974 - val_loss: 0.4276 - val_accuracy: 0.4755\n",
      "Epoch 7/25\n",
      "73/73 [==============================] - 202s 3s/step - loss: 0.0420 - accuracy: 0.9085 - val_loss: 0.1709 - val_accuracy: 0.7005\n",
      "Epoch 8/25\n",
      "73/73 [==============================] - 204s 3s/step - loss: 0.0380 - accuracy: 0.9270 - val_loss: 0.4781 - val_accuracy: 0.4416\n",
      "Epoch 9/25\n",
      "73/73 [==============================] - 205s 3s/step - loss: 0.0395 - accuracy: 0.9184 - val_loss: 0.2553 - val_accuracy: 0.6514\n",
      "Epoch 10/25\n",
      "73/73 [==============================] - 204s 3s/step - loss: 0.0369 - accuracy: 0.9270 - val_loss: 0.1392 - val_accuracy: 0.7140\n",
      "Epoch 11/25\n",
      "73/73 [==============================] - 202s 3s/step - loss: 0.0360 - accuracy: 0.9261 - val_loss: 0.2344 - val_accuracy: 0.5601\n",
      "Epoch 12/25\n",
      "73/73 [==============================] - 203s 3s/step - loss: 0.0355 - accuracy: 0.9257 - val_loss: 0.1907 - val_accuracy: 0.6785\n",
      "Epoch 13/25\n",
      "73/73 [==============================] - 202s 3s/step - loss: 0.0349 - accuracy: 0.9257 - val_loss: 0.3344 - val_accuracy: 0.5533\n",
      "Epoch 14/25\n",
      "73/73 [==============================] - 205s 3s/step - loss: 0.0324 - accuracy: 0.9369 - val_loss: 0.0718 - val_accuracy: 0.8511\n",
      "Epoch 15/25\n",
      "73/73 [==============================] - 202s 3s/step - loss: 0.0332 - accuracy: 0.9377 - val_loss: 0.3726 - val_accuracy: 0.5838\n",
      "Epoch 16/25\n",
      "73/73 [==============================] - 201s 3s/step - loss: 0.0327 - accuracy: 0.9347 - val_loss: 0.4673 - val_accuracy: 0.5144\n",
      "Epoch 17/25\n",
      "73/73 [==============================] - 202s 3s/step - loss: 0.0304 - accuracy: 0.9373 - val_loss: 0.4158 - val_accuracy: 0.5279\n",
      "Epoch 18/25\n",
      "73/73 [==============================] - 282s 4s/step - loss: 0.0326 - accuracy: 0.9373 - val_loss: 0.1190 - val_accuracy: 0.7377\n",
      "Epoch 19/25\n",
      "73/73 [==============================] - 296s 4s/step - loss: 0.0302 - accuracy: 0.9412 - val_loss: 0.0957 - val_accuracy: 0.7986\n",
      "Epoch 20/25\n",
      "73/73 [==============================] - 299s 4s/step - loss: 0.0320 - accuracy: 0.9373 - val_loss: 0.5719 - val_accuracy: 0.4687\n",
      "Epoch 21/25\n",
      "73/73 [==============================] - 296s 4s/step - loss: 0.0294 - accuracy: 0.9446 - val_loss: 0.2325 - val_accuracy: 0.6650\n",
      "Epoch 22/25\n",
      "73/73 [==============================] - 296s 4s/step - loss: 0.0281 - accuracy: 0.9425 - val_loss: 0.2660 - val_accuracy: 0.5804\n",
      "Epoch 23/25\n",
      "73/73 [==============================] - 298s 4s/step - loss: 0.0275 - accuracy: 0.9498 - val_loss: 0.3039 - val_accuracy: 0.5888\n",
      "Epoch 24/25\n",
      "73/73 [==============================] - 298s 4s/step - loss: 0.0295 - accuracy: 0.9450 - val_loss: 0.0841 - val_accuracy: 0.8359\n",
      "Epoch 25/25\n",
      "73/73 [==============================] - 305s 4s/step - loss: 0.0267 - accuracy: 0.9476 - val_loss: 0.1371 - val_accuracy: 0.7073\n"
     ]
    }
   ],
   "source": [
    "# Training model\n",
    "history = model.fit(\n",
    "    aug.flow(x_train, y_train, batch_size=BS),\n",
    "    validation_data=(x_test, y_test),\n",
    "    steps_per_epoch=len(x_train) // BS,\n",
    "    epochs=EPOCHS, verbose=1\n",
    "    )"
   ]
  },
  {
   "cell_type": "code",
   "execution_count": null,
   "id": "b07d2126",
   "metadata": {},
   "outputs": [],
   "source": []
  },
  {
   "cell_type": "code",
   "execution_count": null,
   "id": "f0c95ef0",
   "metadata": {},
   "outputs": [],
   "source": []
  },
  {
   "cell_type": "code",
   "execution_count": 14,
   "id": "0dcff0f7",
   "metadata": {},
   "outputs": [],
   "source": [
    "from keras.models import load_model"
   ]
  },
  {
   "cell_type": "code",
   "execution_count": 19,
   "id": "576fcbfa",
   "metadata": {},
   "outputs": [],
   "source": [
    "# Saving the model\n",
    "model.save('cnn_model.h5')"
   ]
  },
  {
   "cell_type": "code",
   "execution_count": 28,
   "id": "149bd3e2",
   "metadata": {},
   "outputs": [],
   "source": [
    "# Testing the model for an input image\n",
    "\n",
    "loaded_model = load_model('cnn_model.h5')\n",
    "image_dir=\"pepperbellhealthy.jpg\"\n",
    "\n",
    "im=convert_image_to_array(image_dir)\n",
    "np_image_li = np.array(im, dtype=np.float16) / 225.0\n",
    "npp_image = np.expand_dims(np_image_li, axis=0)"
   ]
  },
  {
   "cell_type": "code",
   "execution_count": null,
   "id": "282e11e6",
   "metadata": {},
   "outputs": [],
   "source": []
  },
  {
   "cell_type": "code",
   "execution_count": 29,
   "id": "5ce7058d",
   "metadata": {},
   "outputs": [
    {
     "name": "stdout",
     "output_type": "stream",
     "text": [
      "1/1 [==============================] - 0s 220ms/step\n",
      "Pepper__bell___healthy\n"
     ]
    }
   ],
   "source": [
    "result=model.predict(npp_image)\n",
    "itemindex = np.where(result==np.max(result))\n",
    "print(label_binarizer.classes_[itemindex[1][0]])"
   ]
  },
  {
   "cell_type": "code",
   "execution_count": null,
   "id": "aafe66c1",
   "metadata": {},
   "outputs": [],
   "source": []
  },
  {
   "cell_type": "code",
   "execution_count": null,
   "id": "e08ceb1a",
   "metadata": {},
   "outputs": [],
   "source": []
  }
 ],
 "metadata": {
  "kernelspec": {
   "display_name": "Python 3 (ipykernel)",
   "language": "python",
   "name": "python3"
  },
  "language_info": {
   "codemirror_mode": {
    "name": "ipython",
    "version": 3
   },
   "file_extension": ".py",
   "mimetype": "text/x-python",
   "name": "python",
   "nbconvert_exporter": "python",
   "pygments_lexer": "ipython3",
   "version": "3.11.2"
  }
 },
 "nbformat": 4,
 "nbformat_minor": 5
}
